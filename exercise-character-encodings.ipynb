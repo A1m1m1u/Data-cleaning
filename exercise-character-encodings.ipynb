{
 "cells": [
  {
   "cell_type": "markdown",
   "id": "fadb5d9c",
   "metadata": {
    "papermill": {
     "duration": 0.005785,
     "end_time": "2023-03-30T10:56:14.946829",
     "exception": false,
     "start_time": "2023-03-30T10:56:14.941044",
     "status": "completed"
    },
    "tags": []
   },
   "source": [
    "**This notebook is an exercise in the [Data Cleaning](https://www.kaggle.com/learn/data-cleaning) course.  You can reference the tutorial at [this link](https://www.kaggle.com/alexisbcook/character-encodings).**\n",
    "\n",
    "---\n"
   ]
  },
  {
   "cell_type": "markdown",
   "id": "fb22f99e",
   "metadata": {
    "papermill": {
     "duration": 0.004368,
     "end_time": "2023-03-30T10:56:14.956027",
     "exception": false,
     "start_time": "2023-03-30T10:56:14.951659",
     "status": "completed"
    },
    "tags": []
   },
   "source": [
    "In this exercise, you'll apply what you learned in the **Character encodings** tutorial.\n",
    "\n",
    "# Setup\n",
    "\n",
    "The questions below will give you feedback on your work. Run the following cell to set up the feedback system."
   ]
  },
  {
   "cell_type": "code",
   "execution_count": 1,
   "id": "cf9b4eb6",
   "metadata": {
    "execution": {
     "iopub.execute_input": "2023-03-30T10:56:14.967789Z",
     "iopub.status.busy": "2023-03-30T10:56:14.966984Z",
     "iopub.status.idle": "2023-03-30T10:56:15.046659Z",
     "shell.execute_reply": "2023-03-30T10:56:15.045153Z"
    },
    "papermill": {
     "duration": 0.090459,
     "end_time": "2023-03-30T10:56:15.051091",
     "exception": false,
     "start_time": "2023-03-30T10:56:14.960632",
     "status": "completed"
    },
    "tags": []
   },
   "outputs": [
    {
     "name": "stdout",
     "output_type": "stream",
     "text": [
      "Setup Complete\n"
     ]
    }
   ],
   "source": [
    "from learntools.core import binder\n",
    "binder.bind(globals())\n",
    "from learntools.data_cleaning.ex4 import *\n",
    "print(\"Setup Complete\")"
   ]
  },
  {
   "cell_type": "markdown",
   "id": "97c07022",
   "metadata": {
    "papermill": {
     "duration": 0.004619,
     "end_time": "2023-03-30T10:56:15.061431",
     "exception": false,
     "start_time": "2023-03-30T10:56:15.056812",
     "status": "completed"
    },
    "tags": []
   },
   "source": [
    "# Get our environment set up\n",
    "\n",
    "The first thing we'll need to do is load in the libraries we'll be using."
   ]
  },
  {
   "cell_type": "code",
   "execution_count": 2,
   "id": "dc270bfe",
   "metadata": {
    "execution": {
     "iopub.execute_input": "2023-03-30T10:56:15.073130Z",
     "iopub.status.busy": "2023-03-30T10:56:15.072672Z",
     "iopub.status.idle": "2023-03-30T10:56:15.078376Z",
     "shell.execute_reply": "2023-03-30T10:56:15.077072Z"
    },
    "papermill": {
     "duration": 0.014341,
     "end_time": "2023-03-30T10:56:15.080675",
     "exception": false,
     "start_time": "2023-03-30T10:56:15.066334",
     "status": "completed"
    },
    "tags": []
   },
   "outputs": [],
   "source": [
    "# modules we'll use\n",
    "import pandas as pd\n",
    "import numpy as np\n",
    "\n",
    "# helpful character encoding module\n",
    "import charset_normalizer\n",
    "\n",
    "# set seed for reproducibility\n",
    "np.random.seed(0)"
   ]
  },
  {
   "cell_type": "markdown",
   "id": "13cd4f9a",
   "metadata": {
    "papermill": {
     "duration": 0.004548,
     "end_time": "2023-03-30T10:56:15.090115",
     "exception": false,
     "start_time": "2023-03-30T10:56:15.085567",
     "status": "completed"
    },
    "tags": []
   },
   "source": [
    "# 1) What are encodings?\n",
    "\n",
    "You're working with a dataset composed of bytes.  Run the code cell below to print a sample entry."
   ]
  },
  {
   "cell_type": "code",
   "execution_count": 3,
   "id": "32b7dcf7",
   "metadata": {
    "execution": {
     "iopub.execute_input": "2023-03-30T10:56:15.102094Z",
     "iopub.status.busy": "2023-03-30T10:56:15.101338Z",
     "iopub.status.idle": "2023-03-30T10:56:15.106974Z",
     "shell.execute_reply": "2023-03-30T10:56:15.105723Z"
    },
    "papermill": {
     "duration": 0.014583,
     "end_time": "2023-03-30T10:56:15.109568",
     "exception": false,
     "start_time": "2023-03-30T10:56:15.094985",
     "status": "completed"
    },
    "tags": []
   },
   "outputs": [
    {
     "name": "stdout",
     "output_type": "stream",
     "text": [
      "b'\\xa7A\\xa6n'\n",
      "data type: <class 'bytes'>\n"
     ]
    }
   ],
   "source": [
    "sample_entry = b'\\xa7A\\xa6n'\n",
    "print(sample_entry)\n",
    "print('data type:', type(sample_entry))"
   ]
  },
  {
   "cell_type": "markdown",
   "id": "06cc73b7",
   "metadata": {
    "papermill": {
     "duration": 0.004536,
     "end_time": "2023-03-30T10:56:15.119094",
     "exception": false,
     "start_time": "2023-03-30T10:56:15.114558",
     "status": "completed"
    },
    "tags": []
   },
   "source": [
    "You notice that it doesn't use the standard UTF-8 encoding. \n",
    "\n",
    "Use the next code cell to create a variable `new_entry` that changes the encoding from `\"big5-tw\"` to `\"utf-8\"`.  `new_entry` should have the bytes datatype."
   ]
  },
  {
   "cell_type": "code",
   "execution_count": 4,
   "id": "76737c4e",
   "metadata": {
    "execution": {
     "iopub.execute_input": "2023-03-30T10:56:15.131231Z",
     "iopub.status.busy": "2023-03-30T10:56:15.130244Z",
     "iopub.status.idle": "2023-03-30T10:56:15.142137Z",
     "shell.execute_reply": "2023-03-30T10:56:15.140856Z"
    },
    "papermill": {
     "duration": 0.020515,
     "end_time": "2023-03-30T10:56:15.144481",
     "exception": false,
     "start_time": "2023-03-30T10:56:15.123966",
     "status": "completed"
    },
    "tags": []
   },
   "outputs": [
    {
     "data": {
      "application/javascript": [
       "parent.postMessage({\"jupyterEvent\": \"custom.exercise_interaction\", \"data\": {\"outcomeType\": 1, \"valueTowardsCompletion\": 0.3333333333333333, \"interactionType\": 1, \"questionType\": 1, \"questionId\": \"1_EncodingsIntro\", \"learnToolsVersion\": \"0.3.4\", \"failureMessage\": \"\", \"exceptionClass\": \"\", \"trace\": \"\"}}, \"*\")"
      ],
      "text/plain": [
       "<IPython.core.display.Javascript object>"
      ]
     },
     "metadata": {},
     "output_type": "display_data"
    },
    {
     "data": {
      "text/markdown": [
       "<span style=\"color:#33cc33\">Correct</span>"
      ],
      "text/plain": [
       "Correct"
      ]
     },
     "metadata": {},
     "output_type": "display_data"
    }
   ],
   "source": [
    "before = sample_entry.decode(\"big5-tw\")\n",
    "new_entry=before.encode()\n",
    "\n",
    "\n",
    "\n",
    "# Check your answer\n",
    "q1.check()"
   ]
  },
  {
   "cell_type": "code",
   "execution_count": 5,
   "id": "813ccdd4",
   "metadata": {
    "execution": {
     "iopub.execute_input": "2023-03-30T10:56:15.156511Z",
     "iopub.status.busy": "2023-03-30T10:56:15.156069Z",
     "iopub.status.idle": "2023-03-30T10:56:15.161289Z",
     "shell.execute_reply": "2023-03-30T10:56:15.159996Z"
    },
    "papermill": {
     "duration": 0.014105,
     "end_time": "2023-03-30T10:56:15.163738",
     "exception": false,
     "start_time": "2023-03-30T10:56:15.149633",
     "status": "completed"
    },
    "tags": []
   },
   "outputs": [],
   "source": [
    "# Lines below will give you a hint or solution code\n",
    "#q1.hint()\n",
    "#q1.solution()"
   ]
  },
  {
   "cell_type": "markdown",
   "id": "346ccf0f",
   "metadata": {
    "papermill": {
     "duration": 0.004907,
     "end_time": "2023-03-30T10:56:15.173874",
     "exception": false,
     "start_time": "2023-03-30T10:56:15.168967",
     "status": "completed"
    },
    "tags": []
   },
   "source": [
    "# 2) Reading in files with encoding problems\n",
    "\n",
    "Use the code cell below to read in this file at path `\"../input/fatal-police-shootings-in-the-us/PoliceKillingsUS.csv\"`.  \n",
    "\n",
    "Figure out what the correct encoding should be and read in the file to a DataFrame `police_killings`."
   ]
  },
  {
   "cell_type": "code",
   "execution_count": 6,
   "id": "a6dc5074",
   "metadata": {
    "execution": {
     "iopub.execute_input": "2023-03-30T10:56:15.186336Z",
     "iopub.status.busy": "2023-03-30T10:56:15.185531Z",
     "iopub.status.idle": "2023-03-30T10:56:15.212376Z",
     "shell.execute_reply": "2023-03-30T10:56:15.211398Z"
    },
    "papermill": {
     "duration": 0.035586,
     "end_time": "2023-03-30T10:56:15.214614",
     "exception": false,
     "start_time": "2023-03-30T10:56:15.179028",
     "status": "completed"
    },
    "tags": []
   },
   "outputs": [
    {
     "data": {
      "application/javascript": [
       "parent.postMessage({\"jupyterEvent\": \"custom.exercise_interaction\", \"data\": {\"outcomeType\": 1, \"valueTowardsCompletion\": 0.3333333333333333, \"interactionType\": 1, \"questionType\": 1, \"questionId\": \"2_ReadIn\", \"learnToolsVersion\": \"0.3.4\", \"failureMessage\": \"\", \"exceptionClass\": \"\", \"trace\": \"\"}}, \"*\")"
      ],
      "text/plain": [
       "<IPython.core.display.Javascript object>"
      ]
     },
     "metadata": {},
     "output_type": "display_data"
    },
    {
     "data": {
      "text/markdown": [
       "<span style=\"color:#33cc33\">Correct</span>"
      ],
      "text/plain": [
       "Correct"
      ]
     },
     "metadata": {},
     "output_type": "display_data"
    }
   ],
   "source": [
    "# TODO: Load in the DataFrame correctly.\n",
    "police_killings = pd.read_csv(\"../input/fatal-police-shootings-in-the-us/PoliceKillingsUS.csv\",encoding='Windows-1252')\n",
    "    \n",
    "\n",
    "# Check your answer\n",
    "q2.check()"
   ]
  },
  {
   "cell_type": "markdown",
   "id": "8f8072c9",
   "metadata": {
    "papermill": {
     "duration": 0.005053,
     "end_time": "2023-03-30T10:56:15.225122",
     "exception": false,
     "start_time": "2023-03-30T10:56:15.220069",
     "status": "completed"
    },
    "tags": []
   },
   "source": [
    "Feel free to use any additional code cells for supplemental work.  To get credit for finishing this question, you'll need to run `q2.check()` and get a result of **Correct**."
   ]
  },
  {
   "cell_type": "code",
   "execution_count": 7,
   "id": "8da4de12",
   "metadata": {
    "execution": {
     "iopub.execute_input": "2023-03-30T10:56:15.237729Z",
     "iopub.status.busy": "2023-03-30T10:56:15.237308Z",
     "iopub.status.idle": "2023-03-30T10:56:15.241945Z",
     "shell.execute_reply": "2023-03-30T10:56:15.240707Z"
    },
    "papermill": {
     "duration": 0.014011,
     "end_time": "2023-03-30T10:56:15.244445",
     "exception": false,
     "start_time": "2023-03-30T10:56:15.230434",
     "status": "completed"
    },
    "tags": []
   },
   "outputs": [],
   "source": [
    "# (Optional) Use this code cell for any additional work."
   ]
  },
  {
   "cell_type": "code",
   "execution_count": 8,
   "id": "2ea910cc",
   "metadata": {
    "execution": {
     "iopub.execute_input": "2023-03-30T10:56:15.258273Z",
     "iopub.status.busy": "2023-03-30T10:56:15.257415Z",
     "iopub.status.idle": "2023-03-30T10:56:15.262426Z",
     "shell.execute_reply": "2023-03-30T10:56:15.261307Z"
    },
    "papermill": {
     "duration": 0.014656,
     "end_time": "2023-03-30T10:56:15.264884",
     "exception": false,
     "start_time": "2023-03-30T10:56:15.250228",
     "status": "completed"
    },
    "tags": []
   },
   "outputs": [],
   "source": [
    "# Lines below will give you a hint or solution code\n",
    "#q2.hint()\n",
    "#q2.solution()"
   ]
  },
  {
   "cell_type": "markdown",
   "id": "753bcbe3",
   "metadata": {
    "papermill": {
     "duration": 0.005129,
     "end_time": "2023-03-30T10:56:15.275578",
     "exception": false,
     "start_time": "2023-03-30T10:56:15.270449",
     "status": "completed"
    },
    "tags": []
   },
   "source": [
    "# 3) Saving your files with UTF-8 encoding\n",
    "\n",
    "Save a version of the police killings dataset to CSV with UTF-8 encoding.  Your answer will be marked correct after saving this file.  \n",
    "\n",
    "Note: When using the `to_csv()` method, supply only the name of the file (e.g., `\"my_file.csv\"`).  This saves the file at the filepath `\"/kaggle/working/my_file.csv\"`."
   ]
  },
  {
   "cell_type": "code",
   "execution_count": 9,
   "id": "4f60db0c",
   "metadata": {
    "execution": {
     "iopub.execute_input": "2023-03-30T10:56:15.288483Z",
     "iopub.status.busy": "2023-03-30T10:56:15.287746Z",
     "iopub.status.idle": "2023-03-30T10:56:15.326622Z",
     "shell.execute_reply": "2023-03-30T10:56:15.325662Z"
    },
    "papermill": {
     "duration": 0.048225,
     "end_time": "2023-03-30T10:56:15.329263",
     "exception": false,
     "start_time": "2023-03-30T10:56:15.281038",
     "status": "completed"
    },
    "tags": []
   },
   "outputs": [
    {
     "data": {
      "application/javascript": [
       "parent.postMessage({\"jupyterEvent\": \"custom.exercise_interaction\", \"data\": {\"outcomeType\": 1, \"valueTowardsCompletion\": 0.3333333333333333, \"interactionType\": 1, \"questionType\": 2, \"questionId\": \"3_SaveCSV\", \"learnToolsVersion\": \"0.3.4\", \"failureMessage\": \"\", \"exceptionClass\": \"\", \"trace\": \"\"}}, \"*\")"
      ],
      "text/plain": [
       "<IPython.core.display.Javascript object>"
      ]
     },
     "metadata": {},
     "output_type": "display_data"
    },
    {
     "data": {
      "text/markdown": [
       "<span style=\"color:#33cc33\">Correct</span>"
      ],
      "text/plain": [
       "Correct"
      ]
     },
     "metadata": {},
     "output_type": "display_data"
    }
   ],
   "source": [
    "# TODO: Save the police killings dataset to CSV\n",
    "police_killings.to_csv(\"my_file.csv\")\n",
    "\n",
    "# Check your answer\n",
    "q3.check()"
   ]
  },
  {
   "cell_type": "code",
   "execution_count": 10,
   "id": "fb9b1a4d",
   "metadata": {
    "execution": {
     "iopub.execute_input": "2023-03-30T10:56:15.343474Z",
     "iopub.status.busy": "2023-03-30T10:56:15.342380Z",
     "iopub.status.idle": "2023-03-30T10:56:15.347279Z",
     "shell.execute_reply": "2023-03-30T10:56:15.346270Z"
    },
    "papermill": {
     "duration": 0.014361,
     "end_time": "2023-03-30T10:56:15.349487",
     "exception": false,
     "start_time": "2023-03-30T10:56:15.335126",
     "status": "completed"
    },
    "tags": []
   },
   "outputs": [],
   "source": [
    "# Lines below will give you a hint or solution code\n",
    "#q3.hint()\n",
    "#q3.solution()"
   ]
  },
  {
   "cell_type": "markdown",
   "id": "8e333771",
   "metadata": {
    "papermill": {
     "duration": 0.005522,
     "end_time": "2023-03-30T10:56:15.360800",
     "exception": false,
     "start_time": "2023-03-30T10:56:15.355278",
     "status": "completed"
    },
    "tags": []
   },
   "source": [
    "# (Optional) More practice\n",
    "\n",
    "Check out [this dataset of files in different character encodings](https://www.kaggle.com/rtatman/character-encoding-examples). Can you read in all the files with their original encodings and them save them out as UTF-8 files?\n",
    "\n",
    "If you have a file that's in UTF-8 but has just a couple of weird-looking characters in it, you can try out the [ftfy module](https://ftfy.readthedocs.io/en/latest/#) and see if it helps. \n",
    "\n",
    "# Keep going\n",
    "\n",
    "In the final lesson, learn how to [**clean up inconsistent text entries**](https://www.kaggle.com/alexisbcook/inconsistent-data-entry) in your dataset."
   ]
  },
  {
   "cell_type": "markdown",
   "id": "6b5925da",
   "metadata": {
    "papermill": {
     "duration": 0.00566,
     "end_time": "2023-03-30T10:56:15.372380",
     "exception": false,
     "start_time": "2023-03-30T10:56:15.366720",
     "status": "completed"
    },
    "tags": []
   },
   "source": [
    "---\n",
    "\n",
    "\n",
    "\n",
    "\n",
    "*Have questions or comments? Visit the [course discussion forum](https://www.kaggle.com/learn/data-cleaning/discussion) to chat with other learners.*"
   ]
  }
 ],
 "metadata": {
  "kernelspec": {
   "display_name": "Python 3",
   "language": "python",
   "name": "python3"
  },
  "language_info": {
   "codemirror_mode": {
    "name": "ipython",
    "version": 3
   },
   "file_extension": ".py",
   "mimetype": "text/x-python",
   "name": "python",
   "nbconvert_exporter": "python",
   "pygments_lexer": "ipython3",
   "version": "3.7.12"
  },
  "papermill": {
   "default_parameters": {},
   "duration": 12.004412,
   "end_time": "2023-03-30T10:56:16.100618",
   "environment_variables": {},
   "exception": null,
   "input_path": "__notebook__.ipynb",
   "output_path": "__notebook__.ipynb",
   "parameters": {},
   "start_time": "2023-03-30T10:56:04.096206",
   "version": "2.4.0"
  }
 },
 "nbformat": 4,
 "nbformat_minor": 5
}
